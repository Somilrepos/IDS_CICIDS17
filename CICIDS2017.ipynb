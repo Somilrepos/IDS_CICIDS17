{
  "cells": [
    {
      "cell_type": "code",
      "execution_count": null,
      "metadata": {
        "id": "n0u_pJv1VIIG"
      },
      "outputs": [],
      "source": [
        "SEED = 42"
      ]
    },
    {
      "cell_type": "code",
      "execution_count": null,
      "metadata": {
        "colab": {
          "base_uri": "https://localhost:8080/"
        },
        "id": "Vzop6IW4RsmP",
        "outputId": "644fe43f-6ec8-46e7-e228-f4b4b7b9356c"
      },
      "outputs": [
        {
          "name": "stdout",
          "output_type": "stream",
          "text": [
            "Mounted at /gdrive\n",
            "Downloading cicids2017.zip to ./cicids2017\n"
          ]
        },
        {
          "name": "stderr",
          "output_type": "stream",
          "text": [
            "100%|██████████| 230M/230M [00:03<00:00, 74.6MB/s]\n"
          ]
        },
        {
          "name": "stdout",
          "output_type": "stream",
          "text": [
            "\n"
          ]
        }
      ],
      "source": [
        "from google.colab import drive\n",
        "drive.mount('/gdrive')\n",
        "\n",
        "!cp /gdrive/MyDrive/kaggle.json /content\n",
        "\n",
        "# Downloading the dataset\n",
        "!pip install -q opendatasets\n",
        "\n",
        "import opendatasets as od\n",
        "import pandas as pd\n",
        "\n",
        "od.download('https://www.kaggle.com/datasets/cicdataset/cicids2017/data')"
      ]
    },
    {
      "cell_type": "code",
      "execution_count": null,
      "metadata": {
        "id": "SR5eiBtxSMGq"
      },
      "outputs": [],
      "source": [
        "import os\n",
        "import re\n",
        "import pandas as pd\n",
        "import numpy as np\n",
        "import seaborn as sns\n",
        "import matplotlib.pyplot as plt\n",
        "import sklearn\n",
        "from sklearn.preprocessing import StandardScaler\n",
        "from sklearn.model_selection import train_test_split\n",
        "from sklearn.preprocessing import LabelEncoder\n",
        "from statistics import variance"
      ]
    },
    {
      "cell_type": "code",
      "execution_count": null,
      "metadata": {
        "id": "RsDoJtPRSQFJ"
      },
      "outputs": [],
      "source": [
        "path = \"./cicids2017/MachineLearningCSV/MachineLearningCVE\"\n",
        "\n",
        "def getData(path, ):\n",
        "  files = os.listdir(path)\n",
        "  files = [f for f in files if os.path.isfile(path+'/'+f)]\n",
        "\n",
        "  dfs = {}\n",
        "  for file in files:\n",
        "    dfs[file] = pd.read_csv(path+\"/\"+file)\n",
        "\n",
        "  #Combine all the datasets\n",
        "  df = pd.DataFrame()\n",
        "\n",
        "  for filename,data in dfs.items():\n",
        "    data[\"WeekDay\"] = np.char.array([filename.split(\"-\")[0]]*len(data))\n",
        "    data[\"TimeOfDay\"] = np.char.array([re.findall(r\"[\\w']+\", filename)[2]]*len(data))\n",
        "    df = pd.concat([df,data],ignore_index=True)\n",
        "\n",
        "  df.sample(5), len(df)\n",
        "  return df\n",
        "\n",
        "df = getData(path)"
      ]
    },
    {
      "cell_type": "code",
      "execution_count": null,
      "metadata": {
        "id": "E3iPlRz_Sxez"
      },
      "outputs": [],
      "source": [
        "def clean(df):\n",
        "\n",
        "  #Dropping unwanted rows\n",
        "  tempdf = df[(df[\"Flow Bytes/s\"] == np.inf) | (df[\"Flow Bytes/s\"].isna())]\n",
        "  tempdf = df.drop(tempdf.index)\n",
        "  return tempdf\n",
        "\n",
        "df = clean(df)"
      ]
    },
    {
      "cell_type": "code",
      "execution_count": null,
      "metadata": {
        "colab": {
          "base_uri": "https://localhost:8080/"
        },
        "id": "Tjjt2iOXTrHx",
        "outputId": "3e2d6a20-83af-4b67-a91b-8fe401b738de"
      },
      "outputs": [
        {
          "data": {
            "text/plain": [
              "Index([' Destination Port', ' Flow Duration', ' Total Fwd Packets',\n",
              "       ' Total Backward Packets', 'Total Length of Fwd Packets',\n",
              "       ' Total Length of Bwd Packets', ' Fwd Packet Length Max',\n",
              "       ' Fwd Packet Length Min', ' Fwd Packet Length Mean',\n",
              "       ' Fwd Packet Length Std', 'Bwd Packet Length Max',\n",
              "       ' Bwd Packet Length Min', ' Bwd Packet Length Mean',\n",
              "       ' Bwd Packet Length Std', 'Flow Bytes/s', ' Flow Packets/s',\n",
              "       ' Flow IAT Mean', ' Flow IAT Std', ' Flow IAT Max', ' Flow IAT Min',\n",
              "       'Fwd IAT Total', ' Fwd IAT Mean', ' Fwd IAT Std', ' Fwd IAT Max',\n",
              "       ' Fwd IAT Min', 'Bwd IAT Total', ' Bwd IAT Mean', ' Bwd IAT Std',\n",
              "       ' Bwd IAT Max', ' Bwd IAT Min', 'Fwd PSH Flags', ' Bwd PSH Flags',\n",
              "       ' Fwd URG Flags', ' Bwd URG Flags', ' Fwd Header Length',\n",
              "       ' Bwd Header Length', 'Fwd Packets/s', ' Bwd Packets/s',\n",
              "       ' Min Packet Length', ' Max Packet Length', ' Packet Length Mean',\n",
              "       ' Packet Length Std', ' Packet Length Variance', 'FIN Flag Count',\n",
              "       ' SYN Flag Count', ' RST Flag Count', ' PSH Flag Count',\n",
              "       ' ACK Flag Count', ' URG Flag Count', ' CWE Flag Count',\n",
              "       ' ECE Flag Count', ' Down/Up Ratio', ' Average Packet Size',\n",
              "       ' Avg Fwd Segment Size', ' Avg Bwd Segment Size',\n",
              "       ' Fwd Header Length.1', 'Fwd Avg Bytes/Bulk', ' Fwd Avg Packets/Bulk',\n",
              "       ' Fwd Avg Bulk Rate', ' Bwd Avg Bytes/Bulk', ' Bwd Avg Packets/Bulk',\n",
              "       'Bwd Avg Bulk Rate', 'Subflow Fwd Packets', ' Subflow Fwd Bytes',\n",
              "       ' Subflow Bwd Packets', ' Subflow Bwd Bytes', 'Init_Win_bytes_forward',\n",
              "       ' Init_Win_bytes_backward', ' act_data_pkt_fwd',\n",
              "       ' min_seg_size_forward', 'Active Mean', ' Active Std', ' Active Max',\n",
              "       ' Active Min', 'Idle Mean', ' Idle Std', ' Idle Max', ' Idle Min',\n",
              "       ' Label', 'WeekDay', 'TimeOfDay'],\n",
              "      dtype='object')"
            ]
          },
          "execution_count": 12,
          "metadata": {},
          "output_type": "execute_result"
        }
      ],
      "source": [
        "df.columns"
      ]
    },
    {
      "cell_type": "code",
      "execution_count": null,
      "metadata": {
        "id": "6eXjPlP9UBNO"
      },
      "outputs": [],
      "source": [
        "#Convert the problem to Binary Classification\n",
        "def choose(label):\n",
        "  if label=='BENIGN':\n",
        "    return 0\n",
        "  else:\n",
        "    return 1\n",
        "\n",
        "df[' Label'] = df[' Label'].apply(choose)"
      ]
    },
    {
      "cell_type": "code",
      "execution_count": null,
      "metadata": {
        "id": "tlsENIjeTLK3"
      },
      "outputs": [],
      "source": [
        "Xtrain, Xtest, ytrain, ytest = train_test_split(df.drop([\" Label\"], axis=1), df[\" Label\"], test_size=0.30, random_state=SEED)"
      ]
    },
    {
      "cell_type": "code",
      "execution_count": null,
      "metadata": {
        "id": "SmJIcrrzVSXW"
      },
      "outputs": [],
      "source": [
        "VAR_THRESHOLD = 0.01\n",
        "\n",
        "var_vals={}\n",
        "for feat in Xtrain.select_dtypes(include=[np.number]).columns:\n",
        "  var_vals[feat] = variance(Xtrain.loc[:, feat])\n",
        "\n",
        "def var_filter_func(pair):\n",
        "  _, val = pair\n",
        "  return True if abs(val) < VAR_THRESHOLD else False\n",
        "\n",
        "feat_to_remove = dict(filter(var_filter_func, var_vals.items()))"
      ]
    },
    {
      "cell_type": "code",
      "execution_count": null,
      "metadata": {
        "id": "ETDdzvE_WOTc"
      },
      "outputs": [],
      "source": [
        "Xtrain.drop(feat_to_remove, axis=1, inplace=True)\n",
        "Xtest.drop(feat_to_remove, axis=1, inplace=True)"
      ]
    },
    {
      "cell_type": "code",
      "execution_count": null,
      "metadata": {
        "id": "UP4PXxmeZ6Bp"
      },
      "outputs": [],
      "source": [
        "Xtrain.drop(['WeekDay','TimeOfDay'], axis=1, inplace=True)\n",
        "Xtest.drop(['WeekDay','TimeOfDay'], axis=1, inplace=True)"
      ]
    },
    {
      "cell_type": "code",
      "execution_count": null,
      "metadata": {
        "id": "MYEEq6MWWVtH"
      },
      "outputs": [],
      "source": [
        "#Scaling data\n",
        "\n",
        "scaler = StandardScaler().fit(Xtrain)\n",
        "Xtrain = scaler.transform(Xtrain)\n",
        "Xtest = scaler.transform(Xtest)"
      ]
    },
    {
      "cell_type": "code",
      "execution_count": null,
      "metadata": {
        "id": "lmDh8VExW6_a"
      },
      "outputs": [],
      "source": [
        "from sklearn.decomposition import PCA\n",
        "\n",
        "pca = PCA().fit(Xtrain)\n",
        "Xtrain = pca.transform(Xtrain)\n",
        "Xtest = pca.transform(Xtest)"
      ]
    },
    {
      "cell_type": "code",
      "execution_count": null,
      "metadata": {
        "colab": {
          "base_uri": "https://localhost:8080/",
          "height": 430
        },
        "id": "tMk8Ttr2lAGI",
        "outputId": "606a9fd4-dd17-4983-c23b-60c1dd5c92b8"
      },
      "outputs": [
        {
          "data": {
            "image/png": "[encoded data removed]",
            "text/plain": [
              "<Figure size 640x480 with 1 Axes>"
            ]
          },
          "metadata": {},
          "output_type": "display_data"
        }
      ],
      "source": [
        "plt.plot(pca.explained_variance_ratio_.cumsum())\n",
        "plt.grid()"
      ]
    },
    {
      "cell_type": "code",
      "execution_count": null,
      "metadata": {
        "id": "hyPnLCIilkSR"
      },
      "outputs": [],
      "source": [
        "Xtrain = Xtrain[:,0:25]\n",
        "Xtest = Xtest[:,0:25]"
      ]
    },
    {
      "cell_type": "code",
      "execution_count": null,
      "metadata": {
        "id": "YU4OqqmClz1W"
      },
      "outputs": [],
      "source": [
        "from sklearn.ensemble import RandomForestClassifier\n",
        "from sklearn.model_selection import GridSearchCV\n",
        "from sklearn.model_selection import StratifiedKFold\n",
        "\n",
        "parameters = {\n",
        "    'max_depth' : [5],\n",
        "    'min_samples_split' : [50000, 60000],\n",
        "    'min_samples_leaf' :[10000, 15000],\n",
        "    'n_estimators' : [60]\n",
        "}\n",
        "\n",
        "model=RandomForestClassifier()\n",
        "clf = GridSearchCV(model, parameters, cv = 10, scoring=['accuracy','precision', 'recall','f1'], refit='f1',verbose=10)"
      ]
    },
    {
      "cell_type": "code",
      "execution_count": null,
      "metadata": {
        "colab": {
          "background_save": true,
          "base_uri": "https://localhost:8080/"
        },
        "id": "l33ABc71nhKt",
        "outputId": "3f8962fb-f4c3-4112-db21-54b01139b40c"
      },
      "outputs": [
        {
          "name": "stdout",
          "output_type": "stream",
          "text": [
            "Fitting 10 folds for each of 4 candidates, totalling 40 fits\n",
            "[CV 1/10; 1/4] START max_depth=5, min_samples_leaf=10000, min_samples_split=50000, n_estimators=60\n",
            "[CV 1/10; 1/4] END max_depth=5, min_samples_leaf=10000, min_samples_split=50000, n_estimators=60; accuracy: (test=0.958) f1: (test=0.890) precision: (test=0.933) recall: (test=0.850) total time= 8.9min\n",
            "[CV 2/10; 1/4] START max_depth=5, min_samples_leaf=10000, min_samples_split=50000, n_estimators=60\n",
            "[CV 2/10; 1/4] END max_depth=5, min_samples_leaf=10000, min_samples_split=50000, n_estimators=60; accuracy: (test=0.959) f1: (test=0.890) precision: (test=0.935) recall: (test=0.849) total time= 9.7min\n",
            "[CV 3/10; 1/4] START max_depth=5, min_samples_leaf=10000, min_samples_split=50000, n_estimators=60\n",
            "[CV 3/10; 1/4] END max_depth=5, min_samples_leaf=10000, min_samples_split=50000, n_estimators=60; accuracy: (test=0.961) f1: (test=0.895) precision: (test=0.937) recall: (test=0.857) total time= 8.6min\n",
            "[CV 4/10; 1/4] START max_depth=5, min_samples_leaf=10000, min_samples_split=50000, n_estimators=60\n",
            "[CV 4/10; 1/4] END max_depth=5, min_samples_leaf=10000, min_samples_split=50000, n_estimators=60; accuracy: (test=0.957) f1: (test=0.885) precision: (test=0.926) recall: (test=0.848) total time= 9.8min\n",
            "[CV 5/10; 1/4] START max_depth=5, min_samples_leaf=10000, min_samples_split=50000, n_estimators=60\n",
            "[CV 5/10; 1/4] END max_depth=5, min_samples_leaf=10000, min_samples_split=50000, n_estimators=60; accuracy: (test=0.958) f1: (test=0.886) precision: (test=0.936) recall: (test=0.842) total time= 9.5min\n",
            "[CV 6/10; 1/4] START max_depth=5, min_samples_leaf=10000, min_samples_split=50000, n_estimators=60\n",
            "[CV 6/10; 1/4] END max_depth=5, min_samples_leaf=10000, min_samples_split=50000, n_estimators=60; accuracy: (test=0.959) f1: (test=0.892) precision: (test=0.937) recall: (test=0.851) total time= 9.6min\n",
            "[CV 7/10; 1/4] START max_depth=5, min_samples_leaf=10000, min_samples_split=50000, n_estimators=60\n",
            "[CV 7/10; 1/4] END max_depth=5, min_samples_leaf=10000, min_samples_split=50000, n_estimators=60; accuracy: (test=0.959) f1: (test=0.890) precision: (test=0.934) recall: (test=0.851) total time= 9.6min\n",
            "[CV 8/10; 1/4] START max_depth=5, min_samples_leaf=10000, min_samples_split=50000, n_estimators=60\n",
            "[CV 8/10; 1/4] END max_depth=5, min_samples_leaf=10000, min_samples_split=50000, n_estimators=60; accuracy: (test=0.957) f1: (test=0.885) precision: (test=0.932) recall: (test=0.842) total time= 9.4min\n",
            "[CV 9/10; 1/4] START max_depth=5, min_samples_leaf=10000, min_samples_split=50000, n_estimators=60\n",
            "[CV 9/10; 1/4] END max_depth=5, min_samples_leaf=10000, min_samples_split=50000, n_estimators=60; accuracy: (test=0.958) f1: (test=0.889) precision: (test=0.934) recall: (test=0.848) total time= 9.6min\n",
            "[CV 10/10; 1/4] START max_depth=5, min_samples_leaf=10000, min_samples_split=50000, n_estimators=60\n",
            "[CV 10/10; 1/4] END max_depth=5, min_samples_leaf=10000, min_samples_split=50000, n_estimators=60; accuracy: (test=0.961) f1: (test=0.899) precision: (test=0.928) recall: (test=0.871) total time=10.0min\n",
            "[CV 1/10; 2/4] START max_depth=5, min_samples_leaf=10000, min_samples_split=60000, n_estimators=60\n",
            "[CV 1/10; 2/4] END max_depth=5, min_samples_leaf=10000, min_samples_split=60000, n_estimators=60; accuracy: (test=0.957) f1: (test=0.885) precision: (test=0.932) recall: (test=0.842) total time= 9.7min\n",
            "[CV 2/10; 2/4] START max_depth=5, min_samples_leaf=10000, min_samples_split=60000, n_estimators=60\n",
            "[CV 2/10; 2/4] END max_depth=5, min_samples_leaf=10000, min_samples_split=60000, n_estimators=60; accuracy: (test=0.959) f1: (test=0.891) precision: (test=0.934) recall: (test=0.851) total time= 9.8min\n",
            "[CV 3/10; 2/4] START max_depth=5, min_samples_leaf=10000, min_samples_split=60000, n_estimators=60\n",
            "[CV 3/10; 2/4] END max_depth=5, min_samples_leaf=10000, min_samples_split=60000, n_estimators=60; accuracy: (test=0.959) f1: (test=0.892) precision: (test=0.936) recall: (test=0.852) total time=10.4min\n",
            "[CV 4/10; 2/4] START max_depth=5, min_samples_leaf=10000, min_samples_split=60000, n_estimators=60\n",
            "[CV 4/10; 2/4] END max_depth=5, min_samples_leaf=10000, min_samples_split=60000, n_estimators=60; accuracy: (test=0.959) f1: (test=0.890) precision: (test=0.934) recall: (test=0.850) total time=10.7min\n",
            "[CV 5/10; 2/4] START max_depth=5, min_samples_leaf=10000, min_samples_split=60000, n_estimators=60\n",
            "[CV 5/10; 2/4] END max_depth=5, min_samples_leaf=10000, min_samples_split=60000, n_estimators=60; accuracy: (test=0.957) f1: (test=0.887) precision: (test=0.928) recall: (test=0.849) total time=10.8min\n",
            "[CV 6/10; 2/4] START max_depth=5, min_samples_leaf=10000, min_samples_split=60000, n_estimators=60\n"
          ]
        }
      ],
      "source": [
        "clf.fit(Xtrain, ytrain)"
      ]
    }
  ],
  "metadata": {
    "colab": {
      "provenance": []
    },
    "kernelspec": {
      "display_name": "Python 3",
      "name": "python3"
    },
    "language_info": {
      "name": "python"
    }
  },
  "nbformat": 4,
  "nbformat_minor": 0
}